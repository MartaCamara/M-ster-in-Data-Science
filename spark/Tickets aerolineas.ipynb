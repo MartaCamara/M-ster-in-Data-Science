{
 "cells": [
  {
   "cell_type": "code",
   "execution_count": 3,
   "metadata": {
    "collapsed": true
   },
   "outputs": [],
   "source": [
    "ls = sc.textFile('data/coupon150720.csv')\n",
    "# para meter el número de particiones que queremos hacer, introducimos el número de particiones que queremos hacer\n",
    "# al hacer la lectura del fichero:\n",
    "# ls = sc.textFile('data/coupon150720.csv',100)  - > le hemos metido 100 particiones\n",
    "# el resto de código sería el mismo, que si dejamos las particiones por defecto (en este caso 3 -> lo calculamos \n",
    "# más abajo)"
   ]
  },
  {
   "cell_type": "code",
   "execution_count": 4,
   "metadata": {
    "collapsed": false
   },
   "outputs": [
    {
     "data": {
      "text/plain": [
       "[u'79062005698500,1,MAA,AUH,9W,9W,56.79,USD,1,H,H,0526,150904,OK,IAF0',\n",
       " u'79062005698500,2,AUH,CDG,9W,9W,84.34,USD,1,H,H,6120,150905,OK,IAF0',\n",
       " u'79062005924069,1,CJB,MAA,9W,9W,60.0,USD,1,H,H,2768,150721,OK,IAA0',\n",
       " u'79065668570385,1,DEL,DXB,9W,9W,160.63,USD,2,S,S,0546,150804,OK,INA0',\n",
       " u'79065668737021,1,AUH,IXE,9W,9W,152.46,USD,1,V,V,0501,150803,OK,INA0']"
      ]
     },
     "execution_count": 4,
     "metadata": {},
     "output_type": "execute_result"
    }
   ],
   "source": [
    "# cogemos 5 líneas aleatorias\n",
    "ls.take(5)"
   ]
  },
  {
   "cell_type": "code",
   "execution_count": 5,
   "metadata": {
    "collapsed": false
   },
   "outputs": [
    {
     "data": {
      "text/plain": [
       "u'79062005698500,1,MAA,AUH,9W,9W,56.79,USD,1,H,H,0526,150904,OK,IAF0'"
      ]
     },
     "execution_count": 5,
     "metadata": {},
     "output_type": "execute_result"
    }
   ],
   "source": [
    "# cogemos la primera línea (aunque esté distribuido el fichero en un cluster)\n",
    "ls.first()"
   ]
  },
  {
   "cell_type": "code",
   "execution_count": 6,
   "metadata": {
    "collapsed": false
   },
   "outputs": [
    {
     "data": {
      "text/plain": [
       "1232662"
      ]
     },
     "execution_count": 6,
     "metadata": {},
     "output_type": "execute_result"
    }
   ],
   "source": [
    "#contamos las líneas del fichero\n",
    "ls.count()"
   ]
  },
  {
   "cell_type": "code",
   "execution_count": 8,
   "metadata": {
    "collapsed": false
   },
   "outputs": [
    {
     "data": {
      "text/plain": [
       "MapPartitionsRDD[3] at textFile at NativeMethodAccessorImpl.java:-2"
      ]
     },
     "execution_count": 8,
     "metadata": {},
     "output_type": "execute_result"
    }
   ],
   "source": [
    "ls.cache()\n",
    "# por defecto particiona en memoria\n",
    "ls.persist()\n",
    "# admite argumentos. Si no introduces argumento, hace lo mismo que cache, particiona en memoria"
   ]
  },
  {
   "cell_type": "code",
   "execution_count": 9,
   "metadata": {
    "collapsed": false
   },
   "outputs": [
    {
     "data": {
      "text/plain": [
       "3"
      ]
     },
     "execution_count": 9,
     "metadata": {},
     "output_type": "execute_result"
    }
   ],
   "source": [
    "ls.getNumPartitions()\n",
    "# calculamos el número de particiones que ha hecho spark por defecto"
   ]
  },
  {
   "cell_type": "markdown",
   "metadata": {},
   "source": [
    "## Calculamos el número de pasajeros total de vuelos que ha operado Iberia (no que haya vendido) -> campo 5 de nuestros datos"
   ]
  },
  {
   "cell_type": "code",
   "execution_count": 25,
   "metadata": {
    "collapsed": false
   },
   "outputs": [
    {
     "data": {
      "text/plain": [
       "PythonRDD[17] at RDD at PythonRDD.scala:43"
      ]
     },
     "execution_count": 25,
     "metadata": {},
     "output_type": "execute_result"
    }
   ],
   "source": [
    "# tenemos que partir las líneas\n",
    "ls.filter(lambda x: (x.split(',')[5]=='IB'))"
   ]
  },
  {
   "cell_type": "code",
   "execution_count": 41,
   "metadata": {
    "collapsed": false,
    "scrolled": true
   },
   "outputs": [
    {
     "data": {
      "text/plain": [
       "[u'79062005408888,1,ALC,MAD,IB,IB,313.99,USD,1,Y,Y,8393,150719,OK,INH0',\n",
       " u'79062005408888,2,MAD,TLS,IB,IB,865.32,USD,1,Y,Y,8770,150719,OK,INA0',\n",
       " u'79062006136152,1,SVQ,MAD,IB,IB,16.58,USD,1,Q,Q,3947,150910,OK,INJ0',\n",
       " u'79062006136152,4,MAD,SVQ,IB,IB,15.93,USD,2,O,O,3954,150921,OK,INJ0',\n",
       " u'79062005962805,1,SCQ,MAD,IB,IB,8.98,USD,1,S,S,3895,151001,OK,INJ0']"
      ]
     },
     "execution_count": 41,
     "metadata": {},
     "output_type": "execute_result"
    }
   ],
   "source": [
    "ls.filter(lambda x: (x.split(',')[5]=='IB')).take(5)"
   ]
  },
  {
   "cell_type": "code",
   "execution_count": 42,
   "metadata": {
    "collapsed": false
   },
   "outputs": [
    {
     "data": {
      "text/plain": [
       "26158"
      ]
     },
     "execution_count": 42,
     "metadata": {},
     "output_type": "execute_result"
    }
   ],
   "source": [
    "ls.filter(lambda x: (x.split(',')[5]=='IB')).count()"
   ]
  },
  {
   "cell_type": "code",
   "execution_count": 43,
   "metadata": {
    "collapsed": false
   },
   "outputs": [],
   "source": [
    "# solución del profesor:\n",
    "aerolineas = ls.map(lambda x: x[5])  # así nos estamos quedando con la 5ª letra"
   ]
  },
  {
   "cell_type": "code",
   "execution_count": 44,
   "metadata": {
    "collapsed": false
   },
   "outputs": [
    {
     "data": {
      "text/plain": [
       "[u'0', u'0', u'0', u'6', u'6']"
      ]
     },
     "execution_count": 44,
     "metadata": {},
     "output_type": "execute_result"
    }
   ],
   "source": [
    "aerolineas.take(5)"
   ]
  },
  {
   "cell_type": "code",
   "execution_count": 45,
   "metadata": {
    "collapsed": false
   },
   "outputs": [],
   "source": [
    "# separamos los datos para quedarnos con la 5ª columna:\n",
    "aerolineas = ls.map(lambda x: x.split(\",\")[5])"
   ]
  },
  {
   "cell_type": "code",
   "execution_count": 46,
   "metadata": {
    "collapsed": false
   },
   "outputs": [
    {
     "data": {
      "text/plain": [
       "[u'9W', u'9W', u'9W', u'9W', u'9W']"
      ]
     },
     "execution_count": 46,
     "metadata": {},
     "output_type": "execute_result"
    }
   ],
   "source": [
    "aerolineas.take(5)"
   ]
  },
  {
   "cell_type": "code",
   "execution_count": 47,
   "metadata": {
    "collapsed": false
   },
   "outputs": [
    {
     "data": {
      "text/plain": [
       "26158"
      ]
     },
     "execution_count": 47,
     "metadata": {},
     "output_type": "execute_result"
    }
   ],
   "source": [
    "aerolineas.filter(lambda x: x==\"IB\").count()"
   ]
  },
  {
   "cell_type": "code",
   "execution_count": 48,
   "metadata": {
    "collapsed": false
   },
   "outputs": [
    {
     "data": {
      "text/plain": [
       "26158"
      ]
     },
     "execution_count": 48,
     "metadata": {},
     "output_type": "execute_result"
    }
   ],
   "source": [
    "# otra opción encadenando funciones:\n",
    "ls.map(lambda x: x.split(\",\")[5]).filter(lambda x: x == \"IB\").count()"
   ]
  },
  {
   "cell_type": "markdown",
   "metadata": {},
   "source": [
    "## vamos a ver ahora cuánto dinero han supuesto estos viajes operados por Iberia"
   ]
  },
  {
   "cell_type": "code",
   "execution_count": 50,
   "metadata": {
    "collapsed": true
   },
   "outputs": [],
   "source": [
    "# definimos una función porque con lambda nos saldría un chorizo de código\n",
    "def getAerolineaDinero(l):\n",
    "    elems = l.split(\",\")\n",
    "    aerolinea = elems[5]\n",
    "    dinero = float(elems[6])   # tenemos que pasar a valor la columna 6, que está como texto\n",
    "                               # cuando trabajemos con muchos datos hay que tener en cuenta que puede que algún valor \n",
    "                               # no venga como texto o número (por ejemplo, vienen guiones ---)\n",
    "    return (aerolinea, dinero)"
   ]
  },
  {
   "cell_type": "code",
   "execution_count": 51,
   "metadata": {
    "collapsed": false
   },
   "outputs": [
    {
     "data": {
      "text/plain": [
       "<function __main__.getAerolineaDinero>"
      ]
     },
     "execution_count": 51,
     "metadata": {},
     "output_type": "execute_result"
    }
   ],
   "source": [
    "getAerolineaDinero"
   ]
  },
  {
   "cell_type": "code",
   "execution_count": 54,
   "metadata": {
    "collapsed": false
   },
   "outputs": [
    {
     "data": {
      "text/plain": [
       "(u'9W', 56.79)"
      ]
     },
     "execution_count": 54,
     "metadata": {},
     "output_type": "execute_result"
    }
   ],
   "source": [
    "getAerolineaDinero(ls.first())"
   ]
  },
  {
   "cell_type": "code",
   "execution_count": 55,
   "metadata": {
    "collapsed": true
   },
   "outputs": [],
   "source": [
    "dineros = ls.map(getAerolineaDinero)"
   ]
  },
  {
   "cell_type": "code",
   "execution_count": 56,
   "metadata": {
    "collapsed": false
   },
   "outputs": [
    {
     "data": {
      "text/plain": [
       "[(u'9W', 56.79),\n",
       " (u'9W', 84.34),\n",
       " (u'9W', 60.0),\n",
       " (u'9W', 160.63),\n",
       " (u'9W', 152.46)]"
      ]
     },
     "execution_count": 56,
     "metadata": {},
     "output_type": "execute_result"
    }
   ],
   "source": [
    "dineros.take(5)"
   ]
  },
  {
   "cell_type": "code",
   "execution_count": 57,
   "metadata": {
    "collapsed": false
   },
   "outputs": [
    {
     "data": {
      "text/plain": [
       "[(u'IB', 313.99), (u'IB', 865.32), (u'IB', 16.58)]"
      ]
     },
     "execution_count": 57,
     "metadata": {},
     "output_type": "execute_result"
    }
   ],
   "source": [
    "dineros.filter(lambda x: x[0] == 'IB').take(3)"
   ]
  },
  {
   "cell_type": "code",
   "execution_count": 58,
   "metadata": {
    "collapsed": true
   },
   "outputs": [],
   "source": [
    "dinerosIB = dineros.filter(lambda x: x[0] == 'IB')"
   ]
  },
  {
   "cell_type": "code",
   "execution_count": 59,
   "metadata": {
    "collapsed": false
   },
   "outputs": [
    {
     "data": {
      "text/plain": [
       "[(u'IB', 313.99), (u'IB', 865.32), (u'IB', 16.58)]"
      ]
     },
     "execution_count": 59,
     "metadata": {},
     "output_type": "execute_result"
    }
   ],
   "source": [
    "dinerosIB.take(3)"
   ]
  },
  {
   "cell_type": "code",
   "execution_count": 61,
   "metadata": {
    "collapsed": false
   },
   "outputs": [],
   "source": [
    "# vamos a quedarnos sólo con los valores:\n",
    "cantidades = dinerosIB.map(lambda x: x[1])"
   ]
  },
  {
   "cell_type": "code",
   "execution_count": 69,
   "metadata": {
    "collapsed": false
   },
   "outputs": [
    {
     "data": {
      "text/plain": [
       "[313.99, 865.32, 16.58, 15.93, 8.98]"
      ]
     },
     "execution_count": 69,
     "metadata": {},
     "output_type": "execute_result"
    }
   ],
   "source": [
    "cantidades.take(5)"
   ]
  },
  {
   "cell_type": "code",
   "execution_count": 70,
   "metadata": {
    "collapsed": false
   },
   "outputs": [
    {
     "data": {
      "text/plain": [
       "2828044.4199999194"
      ]
     },
     "execution_count": 70,
     "metadata": {},
     "output_type": "execute_result"
    }
   ],
   "source": [
    "# calculamos la suma y la media:\n",
    "cantidades.sum()"
   ]
  },
  {
   "cell_type": "code",
   "execution_count": 71,
   "metadata": {
    "collapsed": false
   },
   "outputs": [
    {
     "data": {
      "text/plain": [
       "108.11393913907767"
      ]
     },
     "execution_count": 71,
     "metadata": {},
     "output_type": "execute_result"
    }
   ],
   "source": [
    "cantidades.mean()"
   ]
  },
  {
   "cell_type": "code",
   "execution_count": 72,
   "metadata": {
    "collapsed": false
   },
   "outputs": [
    {
     "data": {
      "text/plain": [
       "(count: 26158, mean: 108.113939139, stdev: 168.011485542, max: 5239.93, min: 0.0)"
      ]
     },
     "execution_count": 72,
     "metadata": {},
     "output_type": "execute_result"
    }
   ],
   "source": [
    "# calculamos varias estadísticas\n",
    "cantidades.stats()"
   ]
  },
  {
   "cell_type": "code",
   "execution_count": 73,
   "metadata": {
    "collapsed": false
   },
   "outputs": [
    {
     "data": {
      "text/plain": [
       "2828044.419999994"
      ]
     },
     "execution_count": 73,
     "metadata": {},
     "output_type": "execute_result"
    }
   ],
   "source": [
    "# para calcular la suma podemos multiplicar el total por la media\n",
    "cantidades.count()*cantidades.mean()"
   ]
  },
  {
   "cell_type": "code",
   "execution_count": 74,
   "metadata": {
    "collapsed": false
   },
   "outputs": [
    {
     "data": {
      "text/plain": [
       "(count: 26158, mean: 108.113939139, stdev: 168.011485542, max: 5239.93, min: 0.0)"
      ]
     },
     "execution_count": 74,
     "metadata": {},
     "output_type": "execute_result"
    }
   ],
   "source": [
    "# hacemos lo mismo pero en una sola línea:\n",
    "dineros.filter(lambda x: x[0] ==\"IB\").map(lambda x: x[1]).stats()"
   ]
  },
  {
   "cell_type": "markdown",
   "metadata": {},
   "source": [
    "## top ten de aerolineas con el billete más caro"
   ]
  },
  {
   "cell_type": "code",
   "execution_count": 76,
   "metadata": {
    "collapsed": false
   },
   "outputs": [
    {
     "data": {
      "text/plain": [
       "u'79062005698500,1,MAA,AUH,9W,9W,56.79,USD,1,H,H,0526,150904,OK,IAF0'"
      ]
     },
     "execution_count": 76,
     "metadata": {},
     "output_type": "execute_result"
    }
   ],
   "source": [
    "ls.first()"
   ]
  },
  {
   "cell_type": "code",
   "execution_count": 93,
   "metadata": {
    "collapsed": true
   },
   "outputs": [],
   "source": [
    "def getRutaDinero(l):\n",
    "    elems = l.split(\",\")\n",
    "    origen = elems[2]\n",
    "    destino = elems[3]\n",
    "    dinero = float(elems[6])\n",
    "    ruta = origen + \"-\" + destino\n",
    "    return (ruta, dinero)"
   ]
  },
  {
   "cell_type": "code",
   "execution_count": 94,
   "metadata": {
    "collapsed": false
   },
   "outputs": [
    {
     "data": {
      "text/plain": [
       "(u'MAA-AUH', 56.79)"
      ]
     },
     "execution_count": 94,
     "metadata": {},
     "output_type": "execute_result"
    }
   ],
   "source": [
    "# probamos si funciona la función antes de aplicarla al rdd\n",
    "getRutaDinero(ls.first())"
   ]
  },
  {
   "cell_type": "code",
   "execution_count": 95,
   "metadata": {
    "collapsed": true
   },
   "outputs": [],
   "source": [
    "rutas = ls.map(getRutaDinero)"
   ]
  },
  {
   "cell_type": "code",
   "execution_count": 96,
   "metadata": {
    "collapsed": false
   },
   "outputs": [
    {
     "data": {
      "text/plain": [
       "[(u'MAA-AUH', 56.79), (u'AUH-CDG', 84.34), (u'CJB-MAA', 60.0)]"
      ]
     },
     "execution_count": 96,
     "metadata": {},
     "output_type": "execute_result"
    }
   ],
   "source": [
    "rutas.take(3)"
   ]
  },
  {
   "cell_type": "code",
   "execution_count": 97,
   "metadata": {
    "collapsed": false
   },
   "outputs": [
    {
     "data": {
      "text/plain": [
       "[(u'SYD-CGK', 6355194.0),\n",
       " (u'SYD-CGK', 6355194.0),\n",
       " (u'SYD-CGK', 6355194.0),\n",
       " (u'CDG-IAD', 637313.52),\n",
       " (u'IAD-CDG', 637313.52)]"
      ]
     },
     "execution_count": 97,
     "metadata": {},
     "output_type": "execute_result"
    }
   ],
   "source": [
    "# ordenamos por cupones más caros:\n",
    "rutas.sortBy(lambda x: x[1], False).take(5)  # ponemos False para que ordene de mayor a menor"
   ]
  },
  {
   "cell_type": "code",
   "execution_count": 98,
   "metadata": {
    "collapsed": false
   },
   "outputs": [
    {
     "data": {
      "text/plain": [
       "[(u'BLA-MIA', 7490.33),\n",
       " (u'MIA-CCS', 7415.0),\n",
       " (u'MIA-CCS', 7415.0),\n",
       " (u'CCS-MIA', 7415.0),\n",
       " (u'MIA-CCS', 7415.0)]"
      ]
     },
     "execution_count": 98,
     "metadata": {},
     "output_type": "execute_result"
    }
   ],
   "source": [
    "# filtramos los cupones por debajo de 7.500$\n",
    "rutas.filter(lambda x: x[1] < 7500).sortBy(lambda x: x[1], False).take(5)"
   ]
  },
  {
   "cell_type": "code",
   "execution_count": 99,
   "metadata": {
    "collapsed": true
   },
   "outputs": [],
   "source": [
    "# Tenemos rutas repetidas, por lo que tenemos que agrupar:\n",
    "filtrado = rutas.filter(lambda x: x[1] < 7500)"
   ]
  },
  {
   "cell_type": "code",
   "execution_count": 100,
   "metadata": {
    "collapsed": false
   },
   "outputs": [
    {
     "data": {
      "text/plain": [
       "PythonRDD[109] at RDD at PythonRDD.scala:43"
      ]
     },
     "execution_count": 100,
     "metadata": {},
     "output_type": "execute_result"
    }
   ],
   "source": [
    "filtrado.cache()"
   ]
  },
  {
   "cell_type": "code",
   "execution_count": 101,
   "metadata": {
    "collapsed": false
   },
   "outputs": [
    {
     "data": {
      "text/plain": [
       "[(u'SZF-IST', <pyspark.resultiterable.ResultIterable at 0x7f6cd8079910>),\n",
       " (u'DME-RHO', <pyspark.resultiterable.ResultIterable at 0x7f6cd8079d10>),\n",
       " (u'KRK-OSL', <pyspark.resultiterable.ResultIterable at 0x7f6cd8a371d0>)]"
      ]
     },
     "execution_count": 101,
     "metadata": {},
     "output_type": "execute_result"
    }
   ],
   "source": [
    "filtrado.groupByKey().take(3)\n",
    "# agrupamos por rutas porque queremos saber las rutas más caras, no los cupones"
   ]
  },
  {
   "cell_type": "code",
   "execution_count": 102,
   "metadata": {
    "collapsed": false
   },
   "outputs": [
    {
     "data": {
      "text/plain": [
       "[(u'SZF-IST', 289.83), (u'DME-RHO', 168.95), (u'KRK-OSL', 98.0)]"
      ]
     },
     "execution_count": 102,
     "metadata": {},
     "output_type": "execute_result"
    }
   ],
   "source": [
    "filtrado.groupByKey().mapValues(lambda vs: max(vs)).take(3)"
   ]
  },
  {
   "cell_type": "code",
   "execution_count": 103,
   "metadata": {
    "collapsed": true
   },
   "outputs": [],
   "source": [
    "maximos = filtrado.groupByKey().mapValues(lambda vs: max(vs))"
   ]
  },
  {
   "cell_type": "code",
   "execution_count": 104,
   "metadata": {
    "collapsed": false
   },
   "outputs": [
    {
     "data": {
      "text/plain": [
       "[(u'BLA-MIA', 7490.33),\n",
       " (u'MIA-CCS', 7415.0),\n",
       " (u'CCS-MIA', 7415.0),\n",
       " (u'RUH-LAX', 7401.94),\n",
       " (u'DXB-MAA', 7343.27)]"
      ]
     },
     "execution_count": 104,
     "metadata": {},
     "output_type": "execute_result"
    }
   ],
   "source": [
    "maximos.sortBy(lambda x: x[1], False).take(5)"
   ]
  },
  {
   "cell_type": "markdown",
   "metadata": {},
   "source": [
    "## Ruta con el valor medio por cupón más alto"
   ]
  },
  {
   "cell_type": "code",
   "execution_count": 111,
   "metadata": {
    "collapsed": false
   },
   "outputs": [
    {
     "data": {
      "text/plain": [
       "[(u'BLA-MEC', 5164.355),\n",
       " (u'MEC-BLA', 5164.355),\n",
       " (u'CCS-MIA', 4350.516296296297),\n",
       " (u'MIA-CCS', 4186.95),\n",
       " (u'NRT-PPT', 3751.5499999999997)]"
      ]
     },
     "execution_count": 111,
     "metadata": {},
     "output_type": "execute_result"
    }
   ],
   "source": [
    "filtrado.groupByKey().mapValues(lambda vs: sum(vs)/len(vs)).sortBy(lambda x: x[1], False).take(5)\n"
   ]
  },
  {
   "cell_type": "markdown",
   "metadata": {},
   "source": [
    "## Quitamos los precios fuera de la media según la categoría del pasajero"
   ]
  },
  {
   "cell_type": "code",
   "execution_count": 112,
   "metadata": {
    "collapsed": false
   },
   "outputs": [
    {
     "data": {
      "text/plain": [
       "u'79062005698500,1,MAA,AUH,9W,9W,56.79,USD,1,H,H,0526,150904,OK,IAF0'"
      ]
     },
     "execution_count": 112,
     "metadata": {},
     "output_type": "execute_result"
    }
   ],
   "source": [
    "ls.first()"
   ]
  },
  {
   "cell_type": "code",
   "execution_count": 128,
   "metadata": {
    "collapsed": true
   },
   "outputs": [],
   "source": [
    "def getRutaDineroClase(l):\n",
    "    elems = l.split(\",\")\n",
    "    ruta = elems[2] + \"-\" + elems[3]\n",
    "    al = elems[4]\n",
    "    dinero = float(elems[6])\n",
    "    clase = elems[9]\n",
    "    return ((ruta, al, clase), dinero)"
   ]
  },
  {
   "cell_type": "code",
   "execution_count": 129,
   "metadata": {
    "collapsed": false
   },
   "outputs": [
    {
     "data": {
      "text/plain": [
       "((u'MAA-AUH', u'9W', u'H'), 56.79)"
      ]
     },
     "execution_count": 129,
     "metadata": {},
     "output_type": "execute_result"
    }
   ],
   "source": [
    "getRutaDineroClase(ls.first())"
   ]
  },
  {
   "cell_type": "code",
   "execution_count": 130,
   "metadata": {
    "collapsed": true
   },
   "outputs": [],
   "source": [
    "import math"
   ]
  },
  {
   "cell_type": "code",
   "execution_count": 141,
   "metadata": {
    "collapsed": true
   },
   "outputs": [],
   "source": [
    "def valorLimite(vs):\n",
    "    logs = [math.log(v+1) for v in vs]       # sumamos 1 al valor para no tener ceros (el log de algo y de ese algo +1 son resultado muy parecidos)\n",
    "    media = sum(logs)/len(logs)\n",
    "    desv = [(x-media)**2 for x in logs]\n",
    "    var = sum(desv)/len(desv)\n",
    "    desvStd = math.sqrt(var)\n",
    "    return math.exp(media + 2*desvStd) - 1    # le restamos 1 para volver a la misma escala que teníamos los datos puesto que antes lo hemos sumado\n",
    "# hacemos la exponencial del resultado para quitar el logaritmo e interpretar los datos reales"
   ]
  },
  {
   "cell_type": "code",
   "execution_count": 142,
   "metadata": {
    "collapsed": false
   },
   "outputs": [
    {
     "data": {
      "text/plain": [
       "13.060852649090572"
      ]
     },
     "execution_count": 142,
     "metadata": {},
     "output_type": "execute_result"
    }
   ],
   "source": [
    "valorLimite([12,3,4,1,2,4])\n",
    "# comprobamos que funciona la función con una serie de valores cualesquiera"
   ]
  },
  {
   "cell_type": "code",
   "execution_count": 143,
   "metadata": {
    "collapsed": true
   },
   "outputs": [],
   "source": [
    "rutas = ls.map(getRutaDineroClase)"
   ]
  },
  {
   "cell_type": "code",
   "execution_count": 144,
   "metadata": {
    "collapsed": false
   },
   "outputs": [
    {
     "data": {
      "text/plain": [
       "[((u'MAA-AUH', u'9W', u'H'), 56.79),\n",
       " ((u'AUH-CDG', u'9W', u'H'), 84.34),\n",
       " ((u'CJB-MAA', u'9W', u'H'), 60.0),\n",
       " ((u'DEL-DXB', u'9W', u'S'), 160.63),\n",
       " ((u'AUH-IXE', u'9W', u'V'), 152.46)]"
      ]
     },
     "execution_count": 144,
     "metadata": {},
     "output_type": "execute_result"
    }
   ],
   "source": [
    "rutas.take(5)"
   ]
  },
  {
   "cell_type": "code",
   "execution_count": 145,
   "metadata": {
    "collapsed": false
   },
   "outputs": [
    {
     "data": {
      "text/plain": [
       "[((u'TRD-BOO', u'SK', u'V'),\n",
       "  <pyspark.resultiterable.ResultIterable at 0x7f6cd80b5b10>),\n",
       " ((u'DPS-TMC', u'GA', u'N'),\n",
       "  <pyspark.resultiterable.ResultIterable at 0x7f6cd80b5390>)]"
      ]
     },
     "execution_count": 145,
     "metadata": {},
     "output_type": "execute_result"
    }
   ],
   "source": [
    "rutas.groupByKey().take(2)"
   ]
  },
  {
   "cell_type": "code",
   "execution_count": 146,
   "metadata": {
    "collapsed": true
   },
   "outputs": [],
   "source": [
    "def filtraCuponesExtremos(vs):\n",
    "    vl = valorLimite(vs)\n",
    "    f = [v for v in vs if v < vl]\n",
    "    return f"
   ]
  },
  {
   "cell_type": "code",
   "execution_count": 147,
   "metadata": {
    "collapsed": false
   },
   "outputs": [],
   "source": [
    "grupos = rutas.groupByKey().mapValues(filtraCuponesExtremos)"
   ]
  },
  {
   "cell_type": "code",
   "execution_count": 150,
   "metadata": {
    "collapsed": true
   },
   "outputs": [],
   "source": [
    "def mediaGrupo(vs):\n",
    "    if(len(vs) == 0):\n",
    "        return 0.0\n",
    "    else:\n",
    "        return sum(vs)/len(vs)\n",
    "    \n",
    "# hacemos esto para evitar que nos quite los cupones que tienen valor 0"
   ]
  },
  {
   "cell_type": "code",
   "execution_count": 148,
   "metadata": {
    "collapsed": false,
    "scrolled": false
   },
   "outputs": [
    {
     "data": {
      "text/plain": [
       "[((u'TRD-BOO', u'SK', u'V'),\n",
       "  [42.76,\n",
       "   48.67,\n",
       "   42.76,\n",
       "   42.76,\n",
       "   42.76,\n",
       "   48.67,\n",
       "   42.76,\n",
       "   48.67,\n",
       "   42.76,\n",
       "   42.76,\n",
       "   42.76,\n",
       "   42.76,\n",
       "   42.76,\n",
       "   29.55,\n",
       "   42.76,\n",
       "   42.76,\n",
       "   29.55,\n",
       "   42.76,\n",
       "   42.76]),\n",
       " ((u'DPS-TMC', u'GA', u'N'), [59.15, 59.26, 62.38, 62.38])]"
      ]
     },
     "execution_count": 148,
     "metadata": {},
     "output_type": "execute_result"
    }
   ],
   "source": [
    "grupos.take(2)"
   ]
  },
  {
   "cell_type": "code",
   "execution_count": 151,
   "metadata": {
    "collapsed": false,
    "scrolled": true
   },
   "outputs": [
    {
     "data": {
      "text/plain": [
       "[((u'TRD-BOO', u'SK', u'V'), 42.30263157894736),\n",
       " ((u'DPS-TMC', u'GA', u'N'), 60.7925),\n",
       " ((u'BEG-CDG', u'JU', u'K'), 0.0),\n",
       " ((u'SAV-CLT', u'US', u'N'), 0.0),\n",
       " ((u'DUS-AMS', u'KL', u'C'), 0.0)]"
      ]
     },
     "execution_count": 151,
     "metadata": {},
     "output_type": "execute_result"
    }
   ],
   "source": [
    "grupos.mapValues(mediaGrupo).take(5)"
   ]
  },
  {
   "cell_type": "code",
   "execution_count": 152,
   "metadata": {
    "collapsed": false
   },
   "outputs": [
    {
     "data": {
      "text/plain": [
       "[((u'SYD-CGK', u'GA', u'G'), 6355194.0),\n",
       " ((u'COO-CDG', u'AF', u'J'), 538599.2),\n",
       " ((u'CDG-COO', u'AF', u'J'), 179628.3533333333),\n",
       " ((u'DKR-NBO', u'KQ', u'T'), 58253.593333333345),\n",
       " ((u'TSN-ICN', u'KE', u'Z'), 38655.45)]"
      ]
     },
     "execution_count": 152,
     "metadata": {},
     "output_type": "execute_result"
    }
   ],
   "source": [
    "grupos.mapValues(mediaGrupo).sortBy(lambda x: x[1], False).take(5)"
   ]
  },
  {
   "cell_type": "markdown",
   "metadata": {},
   "source": [
    "Nos sale un billete de 6 mill porque puede ser que solo haya un billete con esa ruta.\n",
    "Tenemos que descartar los grupos con pocos billetes (nos quedamos con los que tengan al menos 10 cupones)\n",
    "porque si no hay suficientes datos no podemos hacer nada."
   ]
  },
  {
   "cell_type": "code",
   "execution_count": 153,
   "metadata": {
    "collapsed": true
   },
   "outputs": [],
   "source": [
    "grupos = rutas.groupByKey()"
   ]
  },
  {
   "cell_type": "code",
   "execution_count": 154,
   "metadata": {
    "collapsed": false
   },
   "outputs": [
    {
     "data": {
      "text/plain": [
       "[((u'TRD-BOO', u'SK', u'V'),\n",
       "  <pyspark.resultiterable.ResultIterable at 0x7f6cd8079e10>),\n",
       " ((u'DPS-TMC', u'GA', u'N'),\n",
       "  <pyspark.resultiterable.ResultIterable at 0x7f6cd8079c90>)]"
      ]
     },
     "execution_count": 154,
     "metadata": {},
     "output_type": "execute_result"
    }
   ],
   "source": [
    "grupos.take(2)"
   ]
  },
  {
   "cell_type": "code",
   "execution_count": 156,
   "metadata": {
    "collapsed": false
   },
   "outputs": [],
   "source": [
    "gruposFiltrados = grupos.filter(lambda x: len(x[1]) > 10)\n",
    "# nos quedamos con los grupos cuya longitud sea mayor que 10 (es decir, que tengan más de 10 cupones)"
   ]
  },
  {
   "cell_type": "code",
   "execution_count": 157,
   "metadata": {
    "collapsed": false
   },
   "outputs": [
    {
     "data": {
      "text/plain": [
       "[((u'TRD-BOO', u'SK', u'V'),\n",
       "  <pyspark.resultiterable.ResultIterable at 0x7f6cd8945090>),\n",
       " ((u'PHX-CLT', u'US', u'S'),\n",
       "  <pyspark.resultiterable.ResultIterable at 0x7f6cd8945c90>)]"
      ]
     },
     "execution_count": 157,
     "metadata": {},
     "output_type": "execute_result"
    }
   ],
   "source": [
    "gruposFiltrados.take(2)"
   ]
  },
  {
   "cell_type": "code",
   "execution_count": 159,
   "metadata": {
    "collapsed": false
   },
   "outputs": [],
   "source": [
    "r = gruposFiltrados.mapValues(filtraCuponesExtremos).mapValues(mediaGrupo)"
   ]
  },
  {
   "cell_type": "code",
   "execution_count": 160,
   "metadata": {
    "collapsed": false
   },
   "outputs": [
    {
     "data": {
      "text/plain": [
       "[((u'MIA-CCS', u'S3', u'S'), 7826.25),\n",
       " ((u'CCS-MIA', u'S3', u'B'), 5550.0),\n",
       " ((u'CCS-MAD', u'V0', u'Y'), 5418.098666666667),\n",
       " ((u'RUH-FRA', u'LH', u'F'), 4792.983),\n",
       " ((u'LHR-DOH', u'QR', u'F'), 4275.98923076923)]"
      ]
     },
     "execution_count": 160,
     "metadata": {},
     "output_type": "execute_result"
    }
   ],
   "source": [
    "r.sortBy(lambda x: x[1], False).take(5)"
   ]
  },
  {
   "cell_type": "markdown",
   "metadata": {},
   "source": [
    "De esta manera ya nos hemos quitado el valor de 6 millones, por ejemplo."
   ]
  },
  {
   "cell_type": "markdown",
   "metadata": {},
   "source": [
    "## ¿Cuántas aerolíneas diferentes hay en este fichero de datos?"
   ]
  },
  {
   "cell_type": "code",
   "execution_count": 161,
   "metadata": {
    "collapsed": false
   },
   "outputs": [
    {
     "data": {
      "text/plain": [
       "u'79062005698500,1,MAA,AUH,9W,9W,56.79,USD,1,H,H,0526,150904,OK,IAF0'"
      ]
     },
     "execution_count": 161,
     "metadata": {},
     "output_type": "execute_result"
    }
   ],
   "source": [
    "ls.first()"
   ]
  },
  {
   "cell_type": "code",
   "execution_count": 163,
   "metadata": {
    "collapsed": false
   },
   "outputs": [
    {
     "data": {
      "text/plain": [
       "[u'9W', u'9W', u'9W', u'9W', u'9W']"
      ]
     },
     "execution_count": 163,
     "metadata": {},
     "output_type": "execute_result"
    }
   ],
   "source": [
    "ls.map(lambda x: x.split(\",\")[4]).take(5)"
   ]
  },
  {
   "cell_type": "code",
   "execution_count": 164,
   "metadata": {
    "collapsed": false
   },
   "outputs": [
    {
     "data": {
      "text/plain": [
       "[u'', u'BE', u'WN', u'JV', u'WK']"
      ]
     },
     "execution_count": 164,
     "metadata": {},
     "output_type": "execute_result"
    }
   ],
   "source": [
    "ls.map(lambda x: x.split(\",\")[4]).distinct().take(5)\n",
    "# distinct tarda un poco en ejecutarse (es una función\"cara\") porque requiere ordenar los datos"
   ]
  },
  {
   "cell_type": "code",
   "execution_count": 165,
   "metadata": {
    "collapsed": false
   },
   "outputs": [
    {
     "data": {
      "text/plain": [
       "359"
      ]
     },
     "execution_count": 165,
     "metadata": {},
     "output_type": "execute_result"
    }
   ],
   "source": [
    "ls.map(lambda x: x.split(\",\")[4]).distinct().count()"
   ]
  },
  {
   "cell_type": "markdown",
   "metadata": {},
   "source": [
    "Tenemos 359 aerolíneas diferentes"
   ]
  },
  {
   "cell_type": "markdown",
   "metadata": {},
   "source": [
    "## Vamos a ver si todas las monedas son en dólares o no"
   ]
  },
  {
   "cell_type": "code",
   "execution_count": 166,
   "metadata": {
    "collapsed": false
   },
   "outputs": [
    {
     "data": {
      "text/plain": [
       "[u'USD']"
      ]
     },
     "execution_count": 166,
     "metadata": {},
     "output_type": "execute_result"
    }
   ],
   "source": [
    "ls.map(lambda x: x.split(\",\")[7]).distinct().collect()"
   ]
  },
  {
   "cell_type": "markdown",
   "metadata": {},
   "source": [
    "Sólo hay dólares"
   ]
  },
  {
   "cell_type": "markdown",
   "metadata": {},
   "source": [
    "## Cómo exportar estos datos ya tratados para tratarlos luego en R, por ejemplo"
   ]
  },
  {
   "cell_type": "code",
   "execution_count": 167,
   "metadata": {
    "collapsed": true
   },
   "outputs": [],
   "source": [
    "ls.map(lambda x: x.split(\",\")[4]).distinct().saveAsTextFile(\"results.csv\")"
   ]
  },
  {
   "cell_type": "markdown",
   "metadata": {},
   "source": [
    "Nos ha guardado un repositorio en el mismo directorio donde estamos trabajando en el que hay un fichero por cada\n",
    "partición que hayamos hecho"
   ]
  },
  {
   "cell_type": "code",
   "execution_count": null,
   "metadata": {
    "collapsed": true
   },
   "outputs": [],
   "source": [
    "# si queremos que nos haga más particiones lo pondríamos así: \n",
    "ls.map(lambda x: x.split(\",\")[4]).reaprtition(100).distinct().saveAsTextFile(\"results.csv\")"
   ]
  }
 ],
 "metadata": {
  "kernelspec": {
   "display_name": "PySpark",
   "language": "python",
   "name": "pyspark"
  },
  "language_info": {
   "codemirror_mode": {
    "name": "ipython",
    "version": 2
   },
   "file_extension": ".py",
   "mimetype": "text/x-python",
   "name": "python",
   "nbconvert_exporter": "python",
   "pygments_lexer": "ipython2",
   "version": "2.7.10"
  }
 },
 "nbformat": 4,
 "nbformat_minor": 0
}
