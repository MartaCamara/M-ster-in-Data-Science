{
 "cells": [
  {
   "cell_type": "code",
   "execution_count": 19,
   "metadata": {
    "collapsed": false
   },
   "outputs": [
    {
     "name": "stdout",
     "output_type": "stream",
     "text": [
      "Populating the interactive namespace from numpy and matplotlib\n"
     ]
    }
   ],
   "source": [
    "import pandas as pd\n",
    "%pylab inline"
   ]
  },
  {
   "cell_type": "code",
   "execution_count": 20,
   "metadata": {
    "collapsed": true
   },
   "outputs": [],
   "source": [
    "b = pd.read_csv('bookings.csv.bz2', sep='^', nrows=1e5)"
   ]
  },
  {
   "cell_type": "code",
   "execution_count": 21,
   "metadata": {
    "collapsed": false
   },
   "outputs": [
    {
     "data": {
      "text/html": [
       "<div>\n",
       "<table border=\"1\" class=\"dataframe\">\n",
       "  <thead>\n",
       "    <tr style=\"text-align: right;\">\n",
       "      <th></th>\n",
       "      <th>act_date</th>\n",
       "      <th>source</th>\n",
       "      <th>pos_ctry</th>\n",
       "      <th>pos_iata</th>\n",
       "      <th>pos_oid</th>\n",
       "      <th>rloc</th>\n",
       "      <th>cre_date</th>\n",
       "      <th>duration</th>\n",
       "      <th>distance</th>\n",
       "      <th>dep_port</th>\n",
       "      <th>...</th>\n",
       "      <th>route</th>\n",
       "      <th>carrier</th>\n",
       "      <th>bkg_class</th>\n",
       "      <th>cab_class</th>\n",
       "      <th>brd_time</th>\n",
       "      <th>off_time</th>\n",
       "      <th>pax</th>\n",
       "      <th>year</th>\n",
       "      <th>month</th>\n",
       "      <th>oid</th>\n",
       "    </tr>\n",
       "  </thead>\n",
       "  <tbody>\n",
       "    <tr>\n",
       "      <th>0</th>\n",
       "      <td>2013-03-05 00:00:00</td>\n",
       "      <td>1A</td>\n",
       "      <td>DE</td>\n",
       "      <td>a68dd7ae953c8acfb187a1af2dcbe123</td>\n",
       "      <td>1a11ae49fcbf545fd2afc1a24d88d2b7</td>\n",
       "      <td>ea65900e72d71f4626378e2ebd298267</td>\n",
       "      <td>2013-02-22 00:00:00</td>\n",
       "      <td>1708</td>\n",
       "      <td>0</td>\n",
       "      <td>ZRH</td>\n",
       "      <td>...</td>\n",
       "      <td>LHRZRH</td>\n",
       "      <td>VI</td>\n",
       "      <td>T</td>\n",
       "      <td>Y</td>\n",
       "      <td>2013-03-07 08:50:00</td>\n",
       "      <td>2013-03-07 11:33:37</td>\n",
       "      <td>-1</td>\n",
       "      <td>2013</td>\n",
       "      <td>3</td>\n",
       "      <td>NULL</td>\n",
       "    </tr>\n",
       "    <tr>\n",
       "      <th>1</th>\n",
       "      <td>2013-03-26 00:00:00</td>\n",
       "      <td>1A</td>\n",
       "      <td>US</td>\n",
       "      <td>e612b9eeeee6f17f42d9b0d3b79e75ca</td>\n",
       "      <td>7437560d8f276d6d05eeb806d9e7edee</td>\n",
       "      <td>737295a86982c941f1c2da9a46a14043</td>\n",
       "      <td>2013-03-26 00:00:00</td>\n",
       "      <td>135270</td>\n",
       "      <td>0</td>\n",
       "      <td>SAL</td>\n",
       "      <td>...</td>\n",
       "      <td>SALATLCLT</td>\n",
       "      <td>NV</td>\n",
       "      <td>L</td>\n",
       "      <td>Y</td>\n",
       "      <td>2013-04-12 13:04:00</td>\n",
       "      <td>2013-04-12 22:05:40</td>\n",
       "      <td>1</td>\n",
       "      <td>2013</td>\n",
       "      <td>3</td>\n",
       "      <td>NULL</td>\n",
       "    </tr>\n",
       "    <tr>\n",
       "      <th>2</th>\n",
       "      <td>2013-03-26 00:00:00</td>\n",
       "      <td>1A</td>\n",
       "      <td>US</td>\n",
       "      <td>e612b9eeeee6f17f42d9b0d3b79e75ca</td>\n",
       "      <td>7437560d8f276d6d05eeb806d9e7edee</td>\n",
       "      <td>737295a86982c941f1c2da9a46a14043</td>\n",
       "      <td>2013-03-26 00:00:00</td>\n",
       "      <td>135270</td>\n",
       "      <td>0</td>\n",
       "      <td>SAL</td>\n",
       "      <td>...</td>\n",
       "      <td>CLTATLSAL</td>\n",
       "      <td>NV</td>\n",
       "      <td>U</td>\n",
       "      <td>Y</td>\n",
       "      <td>2013-07-15 07:00:00</td>\n",
       "      <td>2013-07-15 11:34:51</td>\n",
       "      <td>1</td>\n",
       "      <td>2013</td>\n",
       "      <td>3</td>\n",
       "      <td>NULL</td>\n",
       "    </tr>\n",
       "    <tr>\n",
       "      <th>3</th>\n",
       "      <td>2013-03-26 00:00:00</td>\n",
       "      <td>1A</td>\n",
       "      <td>AU</td>\n",
       "      <td>0f984b3bb6bd06661c95529bbd6193bc</td>\n",
       "      <td>36472c6dbaf7afec9136ac40364e2794</td>\n",
       "      <td>5ecf00fdcbcec761c43dc7285253d0c1</td>\n",
       "      <td>2013-03-26 00:00:00</td>\n",
       "      <td>30885</td>\n",
       "      <td>0</td>\n",
       "      <td>AKL</td>\n",
       "      <td>...</td>\n",
       "      <td>AKLHKGSVO</td>\n",
       "      <td>XK</td>\n",
       "      <td>G</td>\n",
       "      <td>Y</td>\n",
       "      <td>2013-04-24 23:59:00</td>\n",
       "      <td>2013-04-25 16:06:31</td>\n",
       "      <td>1</td>\n",
       "      <td>2013</td>\n",
       "      <td>3</td>\n",
       "      <td>SYDA82546</td>\n",
       "    </tr>\n",
       "    <tr>\n",
       "      <th>4</th>\n",
       "      <td>2013-03-26 00:00:00</td>\n",
       "      <td>1A</td>\n",
       "      <td>AU</td>\n",
       "      <td>0f984b3bb6bd06661c95529bbd6193bc</td>\n",
       "      <td>36472c6dbaf7afec9136ac40364e2794</td>\n",
       "      <td>5ecf00fdcbcec761c43dc7285253d0c1</td>\n",
       "      <td>2013-03-26 00:00:00</td>\n",
       "      <td>30885</td>\n",
       "      <td>0</td>\n",
       "      <td>AKL</td>\n",
       "      <td>...</td>\n",
       "      <td>SVOHKGAKL</td>\n",
       "      <td>XK</td>\n",
       "      <td>G</td>\n",
       "      <td>Y</td>\n",
       "      <td>2013-05-14 20:15:00</td>\n",
       "      <td>2013-05-16 10:44:50</td>\n",
       "      <td>1</td>\n",
       "      <td>2013</td>\n",
       "      <td>3</td>\n",
       "      <td>SYDA82546</td>\n",
       "    </tr>\n",
       "  </tbody>\n",
       "</table>\n",
       "<p>5 rows × 38 columns</p>\n",
       "</div>"
      ],
      "text/plain": [
       "   act_date             source  pos_ctry                          pos_iata  \\\n",
       "0  2013-03-05 00:00:00  1A      DE        a68dd7ae953c8acfb187a1af2dcbe123   \n",
       "1  2013-03-26 00:00:00  1A      US        e612b9eeeee6f17f42d9b0d3b79e75ca   \n",
       "2  2013-03-26 00:00:00  1A      US        e612b9eeeee6f17f42d9b0d3b79e75ca   \n",
       "3  2013-03-26 00:00:00  1A      AU        0f984b3bb6bd06661c95529bbd6193bc   \n",
       "4  2013-03-26 00:00:00  1A      AU        0f984b3bb6bd06661c95529bbd6193bc   \n",
       "\n",
       "                          pos_oid                      rloc            \\\n",
       "0  1a11ae49fcbf545fd2afc1a24d88d2b7  ea65900e72d71f4626378e2ebd298267   \n",
       "1  7437560d8f276d6d05eeb806d9e7edee  737295a86982c941f1c2da9a46a14043   \n",
       "2  7437560d8f276d6d05eeb806d9e7edee  737295a86982c941f1c2da9a46a14043   \n",
       "3  36472c6dbaf7afec9136ac40364e2794  5ecf00fdcbcec761c43dc7285253d0c1   \n",
       "4  36472c6dbaf7afec9136ac40364e2794  5ecf00fdcbcec761c43dc7285253d0c1   \n",
       "\n",
       "   cre_date             duration  distance  dep_port    ...      \\\n",
       "0  2013-02-22 00:00:00      1708         0  ZRH         ...       \n",
       "1  2013-03-26 00:00:00    135270         0  SAL         ...       \n",
       "2  2013-03-26 00:00:00    135270         0  SAL         ...       \n",
       "3  2013-03-26 00:00:00     30885         0  AKL         ...       \n",
       "4  2013-03-26 00:00:00     30885         0  AKL         ...       \n",
       "\n",
       "   route           carrier  bkg_class  cab_class  brd_time             \\\n",
       "0  LHRZRH               VI  T          Y          2013-03-07 08:50:00   \n",
       "1  SALATLCLT            NV  L          Y          2013-04-12 13:04:00   \n",
       "2  CLTATLSAL            NV  U          Y          2013-07-15 07:00:00   \n",
       "3  AKLHKGSVO            XK  G          Y          2013-04-24 23:59:00   \n",
       "4  SVOHKGAKL            XK  G          Y          2013-05-14 20:15:00   \n",
       "\n",
       "   off_time            pax  year month  oid        \n",
       "0  2013-03-07 11:33:37  -1  2013     3  NULL       \n",
       "1  2013-04-12 22:05:40   1  2013     3  NULL       \n",
       "2  2013-07-15 11:34:51   1  2013     3  NULL       \n",
       "3  2013-04-25 16:06:31   1  2013     3  SYDA82546  \n",
       "4  2013-05-16 10:44:50   1  2013     3  SYDA82546  \n",
       "\n",
       "[5 rows x 38 columns]"
      ]
     },
     "execution_count": 21,
     "metadata": {},
     "output_type": "execute_result"
    }
   ],
   "source": [
    "b.head()"
   ]
  },
  {
   "cell_type": "code",
   "execution_count": 22,
   "metadata": {
    "collapsed": false
   },
   "outputs": [
    {
     "data": {
      "text/plain": [
       "Index([u'act_date           ', u'source', u'pos_ctry', u'pos_iata',\n",
       "       u'pos_oid  ', u'rloc          ', u'cre_date           ', u'duration',\n",
       "       u'distance', u'dep_port', u'dep_city', u'dep_ctry', u'arr_port',\n",
       "       u'arr_city', u'arr_ctry', u'lst_port', u'lst_city', u'lst_ctry',\n",
       "       u'brd_port', u'brd_city', u'brd_ctry', u'off_port', u'off_city',\n",
       "       u'off_ctry', u'mkt_port', u'mkt_city', u'mkt_ctry', u'intl',\n",
       "       u'route          ', u'carrier', u'bkg_class', u'cab_class',\n",
       "       u'brd_time           ', u'off_time           ', u'pax', u'year',\n",
       "       u'month', u'oid      '],\n",
       "      dtype='object')"
      ]
     },
     "execution_count": 22,
     "metadata": {},
     "output_type": "execute_result"
    }
   ],
   "source": [
    "b.columns"
   ]
  },
  {
   "cell_type": "code",
   "execution_count": 23,
   "metadata": {
    "collapsed": true
   },
   "outputs": [],
   "source": [
    "# vemos que hay columnas que están nombradas con muchos espacios: podemos limpiar, renombrar las columnas...\n",
    "# copiamos directamente el nombre de las colmnas que queremos: 'brd_time           '\n"
   ]
  },
  {
   "cell_type": "code",
   "execution_count": 24,
   "metadata": {
    "collapsed": true
   },
   "outputs": [],
   "source": [
    "# filtramos por las columnas que nos interesan:\n",
    "\n",
    "b = pd.read_csv('bookings.csv.bz2', \n",
    "               sep='^', \n",
    "               nrows=1e5,\n",
    "               usecols=['brd_time           ','brd_port','off_port']\n",
    "               )"
   ]
  },
  {
   "cell_type": "code",
   "execution_count": 25,
   "metadata": {
    "collapsed": true
   },
   "outputs": [],
   "source": [
    "# renombramos la columna con espacios:\n",
    "# 1º creamos una columna igual\n",
    "b['date']=b['brd_time           ']"
   ]
  },
  {
   "cell_type": "code",
   "execution_count": 26,
   "metadata": {
    "collapsed": false
   },
   "outputs": [
    {
     "data": {
      "text/html": [
       "<div>\n",
       "<table border=\"1\" class=\"dataframe\">\n",
       "  <thead>\n",
       "    <tr style=\"text-align: right;\">\n",
       "      <th></th>\n",
       "      <th>brd_port</th>\n",
       "      <th>off_port</th>\n",
       "      <th>brd_time</th>\n",
       "      <th>date</th>\n",
       "    </tr>\n",
       "  </thead>\n",
       "  <tbody>\n",
       "    <tr>\n",
       "      <th>0</th>\n",
       "      <td>LHR</td>\n",
       "      <td>ZRH</td>\n",
       "      <td>2013-03-07 08:50:00</td>\n",
       "      <td>2013-03-07 08:50:00</td>\n",
       "    </tr>\n",
       "    <tr>\n",
       "      <th>1</th>\n",
       "      <td>SAL</td>\n",
       "      <td>CLT</td>\n",
       "      <td>2013-04-12 13:04:00</td>\n",
       "      <td>2013-04-12 13:04:00</td>\n",
       "    </tr>\n",
       "    <tr>\n",
       "      <th>2</th>\n",
       "      <td>CLT</td>\n",
       "      <td>SAL</td>\n",
       "      <td>2013-07-15 07:00:00</td>\n",
       "      <td>2013-07-15 07:00:00</td>\n",
       "    </tr>\n",
       "    <tr>\n",
       "      <th>3</th>\n",
       "      <td>AKL</td>\n",
       "      <td>SVO</td>\n",
       "      <td>2013-04-24 23:59:00</td>\n",
       "      <td>2013-04-24 23:59:00</td>\n",
       "    </tr>\n",
       "    <tr>\n",
       "      <th>4</th>\n",
       "      <td>SVO</td>\n",
       "      <td>AKL</td>\n",
       "      <td>2013-05-14 20:15:00</td>\n",
       "      <td>2013-05-14 20:15:00</td>\n",
       "    </tr>\n",
       "  </tbody>\n",
       "</table>\n",
       "</div>"
      ],
      "text/plain": [
       "   brd_port  off_port  brd_time                            date\n",
       "0  LHR       ZRH       2013-03-07 08:50:00  2013-03-07 08:50:00\n",
       "1  SAL       CLT       2013-04-12 13:04:00  2013-04-12 13:04:00\n",
       "2  CLT       SAL       2013-07-15 07:00:00  2013-07-15 07:00:00\n",
       "3  AKL       SVO       2013-04-24 23:59:00  2013-04-24 23:59:00\n",
       "4  SVO       AKL       2013-05-14 20:15:00  2013-05-14 20:15:00"
      ]
     },
     "execution_count": 26,
     "metadata": {},
     "output_type": "execute_result"
    }
   ],
   "source": [
    "b.head()"
   ]
  },
  {
   "cell_type": "code",
   "execution_count": 27,
   "metadata": {
    "collapsed": false
   },
   "outputs": [],
   "source": [
    "# 2º borramos la columna con el nombre con espacios\n",
    "b = b.drop('brd_time           ', axis=1)"
   ]
  },
  {
   "cell_type": "code",
   "execution_count": 28,
   "metadata": {
    "collapsed": false
   },
   "outputs": [
    {
     "data": {
      "text/html": [
       "<div>\n",
       "<table border=\"1\" class=\"dataframe\">\n",
       "  <thead>\n",
       "    <tr style=\"text-align: right;\">\n",
       "      <th></th>\n",
       "      <th>brd_port</th>\n",
       "      <th>off_port</th>\n",
       "      <th>date</th>\n",
       "    </tr>\n",
       "  </thead>\n",
       "  <tbody>\n",
       "    <tr>\n",
       "      <th>0</th>\n",
       "      <td>LHR</td>\n",
       "      <td>ZRH</td>\n",
       "      <td>2013-03-07 08:50:00</td>\n",
       "    </tr>\n",
       "    <tr>\n",
       "      <th>1</th>\n",
       "      <td>SAL</td>\n",
       "      <td>CLT</td>\n",
       "      <td>2013-04-12 13:04:00</td>\n",
       "    </tr>\n",
       "    <tr>\n",
       "      <th>2</th>\n",
       "      <td>CLT</td>\n",
       "      <td>SAL</td>\n",
       "      <td>2013-07-15 07:00:00</td>\n",
       "    </tr>\n",
       "    <tr>\n",
       "      <th>3</th>\n",
       "      <td>AKL</td>\n",
       "      <td>SVO</td>\n",
       "      <td>2013-04-24 23:59:00</td>\n",
       "    </tr>\n",
       "    <tr>\n",
       "      <th>4</th>\n",
       "      <td>SVO</td>\n",
       "      <td>AKL</td>\n",
       "      <td>2013-05-14 20:15:00</td>\n",
       "    </tr>\n",
       "  </tbody>\n",
       "</table>\n",
       "</div>"
      ],
      "text/plain": [
       "   brd_port  off_port                 date\n",
       "0  LHR       ZRH       2013-03-07 08:50:00\n",
       "1  SAL       CLT       2013-04-12 13:04:00\n",
       "2  CLT       SAL       2013-07-15 07:00:00\n",
       "3  AKL       SVO       2013-04-24 23:59:00\n",
       "4  SVO       AKL       2013-05-14 20:15:00"
      ]
     },
     "execution_count": 28,
     "metadata": {},
     "output_type": "execute_result"
    }
   ],
   "source": [
    "b.head()"
   ]
  },
  {
   "cell_type": "code",
   "execution_count": 29,
   "metadata": {
    "collapsed": true
   },
   "outputs": [],
   "source": [
    "# leemos ahora el fichero de búsquedas\n",
    "\n",
    "s = pd.read_csv('searches.csv.bz2', sep='^', nrows=1e5)"
   ]
  },
  {
   "cell_type": "code",
   "execution_count": 30,
   "metadata": {
    "collapsed": false
   },
   "outputs": [
    {
     "data": {
      "text/html": [
       "<div>\n",
       "<table border=\"1\" class=\"dataframe\">\n",
       "  <thead>\n",
       "    <tr style=\"text-align: right;\">\n",
       "      <th></th>\n",
       "      <th>Date</th>\n",
       "      <th>Time</th>\n",
       "      <th>TxnCode</th>\n",
       "      <th>OfficeID</th>\n",
       "      <th>Country</th>\n",
       "      <th>Origin</th>\n",
       "      <th>Destination</th>\n",
       "      <th>RoundTrip</th>\n",
       "      <th>NbSegments</th>\n",
       "      <th>Seg1Departure</th>\n",
       "      <th>...</th>\n",
       "      <th>Seg6Arrival</th>\n",
       "      <th>Seg6Date</th>\n",
       "      <th>Seg6Carrier</th>\n",
       "      <th>Seg6BookingCode</th>\n",
       "      <th>From</th>\n",
       "      <th>IsPublishedForNeg</th>\n",
       "      <th>IsFromInternet</th>\n",
       "      <th>IsFromVista</th>\n",
       "      <th>TerminalID</th>\n",
       "      <th>InternetOffice</th>\n",
       "    </tr>\n",
       "  </thead>\n",
       "  <tbody>\n",
       "    <tr>\n",
       "      <th>0</th>\n",
       "      <td>2013-01-01</td>\n",
       "      <td>20:25:57</td>\n",
       "      <td>MPT</td>\n",
       "      <td>624d8c3ac0b3a7ca03e3c167e0f48327</td>\n",
       "      <td>DE</td>\n",
       "      <td>TXL</td>\n",
       "      <td>AUH</td>\n",
       "      <td>1</td>\n",
       "      <td>2</td>\n",
       "      <td>TXL</td>\n",
       "      <td>...</td>\n",
       "      <td>NaN</td>\n",
       "      <td>NaN</td>\n",
       "      <td>NaN</td>\n",
       "      <td>NaN</td>\n",
       "      <td>1ASIWS</td>\n",
       "      <td>0</td>\n",
       "      <td>0</td>\n",
       "      <td>0</td>\n",
       "      <td>d41d8cd98f00b204e9800998ecf8427e</td>\n",
       "      <td>FRA</td>\n",
       "    </tr>\n",
       "    <tr>\n",
       "      <th>1</th>\n",
       "      <td>2013-01-01</td>\n",
       "      <td>10:15:33</td>\n",
       "      <td>MPT</td>\n",
       "      <td>b0af35b31588dc4ab06d5cf2986e8e02</td>\n",
       "      <td>MD</td>\n",
       "      <td>ATH</td>\n",
       "      <td>MIL</td>\n",
       "      <td>0</td>\n",
       "      <td>1</td>\n",
       "      <td>ATH</td>\n",
       "      <td>...</td>\n",
       "      <td>NaN</td>\n",
       "      <td>NaN</td>\n",
       "      <td>NaN</td>\n",
       "      <td>NaN</td>\n",
       "      <td>1ASIWS</td>\n",
       "      <td>0</td>\n",
       "      <td>0</td>\n",
       "      <td>0</td>\n",
       "      <td>d41d8cd98f00b204e9800998ecf8427e</td>\n",
       "      <td>KIV</td>\n",
       "    </tr>\n",
       "    <tr>\n",
       "      <th>2</th>\n",
       "      <td>2013-01-01</td>\n",
       "      <td>18:04:49</td>\n",
       "      <td>MPT</td>\n",
       "      <td>3561a60621de06ab1badc8ca55699ef3</td>\n",
       "      <td>US</td>\n",
       "      <td>ICT</td>\n",
       "      <td>SFO</td>\n",
       "      <td>1</td>\n",
       "      <td>2</td>\n",
       "      <td>ICT</td>\n",
       "      <td>...</td>\n",
       "      <td>NaN</td>\n",
       "      <td>NaN</td>\n",
       "      <td>NaN</td>\n",
       "      <td>NaN</td>\n",
       "      <td>1ASIWS</td>\n",
       "      <td>0</td>\n",
       "      <td>0</td>\n",
       "      <td>0</td>\n",
       "      <td>d41d8cd98f00b204e9800998ecf8427e</td>\n",
       "      <td>NYC</td>\n",
       "    </tr>\n",
       "    <tr>\n",
       "      <th>3</th>\n",
       "      <td>2013-01-01</td>\n",
       "      <td>17:42:40</td>\n",
       "      <td>FXP</td>\n",
       "      <td>1864e5e8013d9414150e91d26b6a558b</td>\n",
       "      <td>SE</td>\n",
       "      <td>RNB</td>\n",
       "      <td>ARN</td>\n",
       "      <td>0</td>\n",
       "      <td>1</td>\n",
       "      <td>RNB</td>\n",
       "      <td>...</td>\n",
       "      <td>NaN</td>\n",
       "      <td>NaN</td>\n",
       "      <td>NaN</td>\n",
       "      <td>NaN</td>\n",
       "      <td>1ASI</td>\n",
       "      <td>0</td>\n",
       "      <td>0</td>\n",
       "      <td>0</td>\n",
       "      <td>d41d8cd98f00b204e9800998ecf8427e</td>\n",
       "      <td>STO</td>\n",
       "    </tr>\n",
       "    <tr>\n",
       "      <th>4</th>\n",
       "      <td>2013-01-01</td>\n",
       "      <td>17:48:29</td>\n",
       "      <td>MPT</td>\n",
       "      <td>1ec336348f44207d2e0027dc3a68c118</td>\n",
       "      <td>NO</td>\n",
       "      <td>OSL</td>\n",
       "      <td>MAD</td>\n",
       "      <td>1</td>\n",
       "      <td>2</td>\n",
       "      <td>OSL</td>\n",
       "      <td>...</td>\n",
       "      <td>NaN</td>\n",
       "      <td>NaN</td>\n",
       "      <td>NaN</td>\n",
       "      <td>NaN</td>\n",
       "      <td>1ASIWS</td>\n",
       "      <td>0</td>\n",
       "      <td>0</td>\n",
       "      <td>0</td>\n",
       "      <td>d41d8cd98f00b204e9800998ecf8427e</td>\n",
       "      <td>OSL</td>\n",
       "    </tr>\n",
       "  </tbody>\n",
       "</table>\n",
       "<p>5 rows × 45 columns</p>\n",
       "</div>"
      ],
      "text/plain": [
       "         Date      Time TxnCode                          OfficeID Country  \\\n",
       "0  2013-01-01  20:25:57     MPT  624d8c3ac0b3a7ca03e3c167e0f48327      DE   \n",
       "1  2013-01-01  10:15:33     MPT  b0af35b31588dc4ab06d5cf2986e8e02      MD   \n",
       "2  2013-01-01  18:04:49     MPT  3561a60621de06ab1badc8ca55699ef3      US   \n",
       "3  2013-01-01  17:42:40     FXP  1864e5e8013d9414150e91d26b6a558b      SE   \n",
       "4  2013-01-01  17:48:29     MPT  1ec336348f44207d2e0027dc3a68c118      NO   \n",
       "\n",
       "  Origin Destination  RoundTrip  NbSegments Seg1Departure      ...        \\\n",
       "0    TXL         AUH          1           2           TXL      ...         \n",
       "1    ATH         MIL          0           1           ATH      ...         \n",
       "2    ICT         SFO          1           2           ICT      ...         \n",
       "3    RNB         ARN          0           1           RNB      ...         \n",
       "4    OSL         MAD          1           2           OSL      ...         \n",
       "\n",
       "  Seg6Arrival Seg6Date Seg6Carrier Seg6BookingCode    From IsPublishedForNeg  \\\n",
       "0         NaN      NaN         NaN             NaN  1ASIWS                 0   \n",
       "1         NaN      NaN         NaN             NaN  1ASIWS                 0   \n",
       "2         NaN      NaN         NaN             NaN  1ASIWS                 0   \n",
       "3         NaN      NaN         NaN             NaN    1ASI                 0   \n",
       "4         NaN      NaN         NaN             NaN  1ASIWS                 0   \n",
       "\n",
       "  IsFromInternet IsFromVista                        TerminalID InternetOffice  \n",
       "0              0           0  d41d8cd98f00b204e9800998ecf8427e            FRA  \n",
       "1              0           0  d41d8cd98f00b204e9800998ecf8427e            KIV  \n",
       "2              0           0  d41d8cd98f00b204e9800998ecf8427e            NYC  \n",
       "3              0           0  d41d8cd98f00b204e9800998ecf8427e            STO  \n",
       "4              0           0  d41d8cd98f00b204e9800998ecf8427e            OSL  \n",
       "\n",
       "[5 rows x 45 columns]"
      ]
     },
     "execution_count": 30,
     "metadata": {},
     "output_type": "execute_result"
    }
   ],
   "source": [
    "s.head()"
   ]
  },
  {
   "cell_type": "code",
   "execution_count": 31,
   "metadata": {
    "collapsed": false
   },
   "outputs": [
    {
     "data": {
      "text/plain": [
       "Index([u'Date', u'Time', u'TxnCode', u'OfficeID', u'Country', u'Origin',\n",
       "       u'Destination', u'RoundTrip', u'NbSegments', u'Seg1Departure',\n",
       "       u'Seg1Arrival', u'Seg1Date', u'Seg1Carrier', u'Seg1BookingCode',\n",
       "       u'Seg2Departure', u'Seg2Arrival', u'Seg2Date', u'Seg2Carrier',\n",
       "       u'Seg2BookingCode', u'Seg3Departure', u'Seg3Arrival', u'Seg3Date',\n",
       "       u'Seg3Carrier', u'Seg3BookingCode', u'Seg4Departure', u'Seg4Arrival',\n",
       "       u'Seg4Date', u'Seg4Carrier', u'Seg4BookingCode', u'Seg5Departure',\n",
       "       u'Seg5Arrival', u'Seg5Date', u'Seg5Carrier', u'Seg5BookingCode',\n",
       "       u'Seg6Departure', u'Seg6Arrival', u'Seg6Date', u'Seg6Carrier',\n",
       "       u'Seg6BookingCode', u'From', u'IsPublishedForNeg', u'IsFromInternet',\n",
       "       u'IsFromVista', u'TerminalID', u'InternetOffice'],\n",
       "      dtype='object')"
      ]
     },
     "execution_count": 31,
     "metadata": {},
     "output_type": "execute_result"
    }
   ],
   "source": [
    "s.columns"
   ]
  },
  {
   "cell_type": "code",
   "execution_count": 34,
   "metadata": {
    "collapsed": false
   },
   "outputs": [],
   "source": [
    "s = pd.read_csv('searches.csv.bz2', \n",
    "               sep='^', \n",
    "               nrows=1e5,\n",
    "               usecols=['Seg1Date','Origin','Destination'],\n",
    "               parse_dates=['Seg1Date']\n",
    "               )"
   ]
  },
  {
   "cell_type": "code",
   "execution_count": 35,
   "metadata": {
    "collapsed": false
   },
   "outputs": [
    {
     "data": {
      "text/html": [
       "<div>\n",
       "<table border=\"1\" class=\"dataframe\">\n",
       "  <thead>\n",
       "    <tr style=\"text-align: right;\">\n",
       "      <th></th>\n",
       "      <th>Origin</th>\n",
       "      <th>Destination</th>\n",
       "      <th>Seg1Date</th>\n",
       "    </tr>\n",
       "  </thead>\n",
       "  <tbody>\n",
       "    <tr>\n",
       "      <th>0</th>\n",
       "      <td>TXL</td>\n",
       "      <td>AUH</td>\n",
       "      <td>2013-01-26</td>\n",
       "    </tr>\n",
       "    <tr>\n",
       "      <th>1</th>\n",
       "      <td>ATH</td>\n",
       "      <td>MIL</td>\n",
       "      <td>2013-01-04</td>\n",
       "    </tr>\n",
       "    <tr>\n",
       "      <th>2</th>\n",
       "      <td>ICT</td>\n",
       "      <td>SFO</td>\n",
       "      <td>2013-08-02</td>\n",
       "    </tr>\n",
       "    <tr>\n",
       "      <th>3</th>\n",
       "      <td>RNB</td>\n",
       "      <td>ARN</td>\n",
       "      <td>2013-01-02</td>\n",
       "    </tr>\n",
       "    <tr>\n",
       "      <th>4</th>\n",
       "      <td>OSL</td>\n",
       "      <td>MAD</td>\n",
       "      <td>2013-03-22</td>\n",
       "    </tr>\n",
       "  </tbody>\n",
       "</table>\n",
       "</div>"
      ],
      "text/plain": [
       "  Origin Destination   Seg1Date\n",
       "0    TXL         AUH 2013-01-26\n",
       "1    ATH         MIL 2013-01-04\n",
       "2    ICT         SFO 2013-08-02\n",
       "3    RNB         ARN 2013-01-02\n",
       "4    OSL         MAD 2013-03-22"
      ]
     },
     "execution_count": 35,
     "metadata": {},
     "output_type": "execute_result"
    }
   ],
   "source": [
    "s.head()"
   ]
  },
  {
   "cell_type": "code",
   "execution_count": 40,
   "metadata": {
    "collapsed": false
   },
   "outputs": [],
   "source": [
    "# tenemos que limpiar la fecha en la columna date del DF b (hay que quitar la hora)\n",
    "# para ello, volvemos a leer el fichero de búsquedas dando a la columna date el formato de fecha\n",
    "b = pd.read_csv('bookings.csv.bz2', \n",
    "               sep='^', \n",
    "               nrows=1e5,\n",
    "               usecols=['brd_time           ','brd_port','off_port'],\n",
    "               parse_dates=['brd_time           ']\n",
    "               )\n",
    "\n",
    "# volvemos a seguir los pasos anteriores para renombrar la columna con espacios\n",
    "b['date']=b['brd_time           ']\n",
    "b = b.drop('brd_time           ', axis=1)\n"
   ]
  },
  {
   "cell_type": "code",
   "execution_count": 41,
   "metadata": {
    "collapsed": false
   },
   "outputs": [
    {
     "data": {
      "text/html": [
       "<div>\n",
       "<table border=\"1\" class=\"dataframe\">\n",
       "  <thead>\n",
       "    <tr style=\"text-align: right;\">\n",
       "      <th></th>\n",
       "      <th>brd_port</th>\n",
       "      <th>off_port</th>\n",
       "      <th>date</th>\n",
       "    </tr>\n",
       "  </thead>\n",
       "  <tbody>\n",
       "    <tr>\n",
       "      <th>0</th>\n",
       "      <td>LHR</td>\n",
       "      <td>ZRH</td>\n",
       "      <td>2013-03-07 08:50:00</td>\n",
       "    </tr>\n",
       "    <tr>\n",
       "      <th>1</th>\n",
       "      <td>SAL</td>\n",
       "      <td>CLT</td>\n",
       "      <td>2013-04-12 13:04:00</td>\n",
       "    </tr>\n",
       "    <tr>\n",
       "      <th>2</th>\n",
       "      <td>CLT</td>\n",
       "      <td>SAL</td>\n",
       "      <td>2013-07-15 07:00:00</td>\n",
       "    </tr>\n",
       "    <tr>\n",
       "      <th>3</th>\n",
       "      <td>AKL</td>\n",
       "      <td>SVO</td>\n",
       "      <td>2013-04-24 23:59:00</td>\n",
       "    </tr>\n",
       "    <tr>\n",
       "      <th>4</th>\n",
       "      <td>SVO</td>\n",
       "      <td>AKL</td>\n",
       "      <td>2013-05-14 20:15:00</td>\n",
       "    </tr>\n",
       "  </tbody>\n",
       "</table>\n",
       "</div>"
      ],
      "text/plain": [
       "   brd_port  off_port                date\n",
       "0  LHR       ZRH      2013-03-07 08:50:00\n",
       "1  SAL       CLT      2013-04-12 13:04:00\n",
       "2  CLT       SAL      2013-07-15 07:00:00\n",
       "3  AKL       SVO      2013-04-24 23:59:00\n",
       "4  SVO       AKL      2013-05-14 20:15:00"
      ]
     },
     "execution_count": 41,
     "metadata": {},
     "output_type": "execute_result"
    }
   ],
   "source": [
    "b.head()"
   ]
  },
  {
   "cell_type": "code",
   "execution_count": 43,
   "metadata": {
    "collapsed": false
   },
   "outputs": [],
   "source": [
    "# cogemos sólo la fecha (sin hora) de la columna date:\n",
    "\n",
    "def dateToDate(d):\n",
    "    return d.date()\n",
    "\n",
    "m = b.date.apply(dateToDate)\n",
    "\n",
    "b['date'] = m"
   ]
  },
  {
   "cell_type": "code",
   "execution_count": 44,
   "metadata": {
    "collapsed": false
   },
   "outputs": [
    {
     "data": {
      "text/html": [
       "<div>\n",
       "<table border=\"1\" class=\"dataframe\">\n",
       "  <thead>\n",
       "    <tr style=\"text-align: right;\">\n",
       "      <th></th>\n",
       "      <th>brd_port</th>\n",
       "      <th>off_port</th>\n",
       "      <th>date</th>\n",
       "    </tr>\n",
       "  </thead>\n",
       "  <tbody>\n",
       "    <tr>\n",
       "      <th>0</th>\n",
       "      <td>LHR</td>\n",
       "      <td>ZRH</td>\n",
       "      <td>2013-03-07</td>\n",
       "    </tr>\n",
       "    <tr>\n",
       "      <th>1</th>\n",
       "      <td>SAL</td>\n",
       "      <td>CLT</td>\n",
       "      <td>2013-04-12</td>\n",
       "    </tr>\n",
       "    <tr>\n",
       "      <th>2</th>\n",
       "      <td>CLT</td>\n",
       "      <td>SAL</td>\n",
       "      <td>2013-07-15</td>\n",
       "    </tr>\n",
       "    <tr>\n",
       "      <th>3</th>\n",
       "      <td>AKL</td>\n",
       "      <td>SVO</td>\n",
       "      <td>2013-04-24</td>\n",
       "    </tr>\n",
       "    <tr>\n",
       "      <th>4</th>\n",
       "      <td>SVO</td>\n",
       "      <td>AKL</td>\n",
       "      <td>2013-05-14</td>\n",
       "    </tr>\n",
       "  </tbody>\n",
       "</table>\n",
       "</div>"
      ],
      "text/plain": [
       "   brd_port  off_port        date\n",
       "0  LHR       ZRH       2013-03-07\n",
       "1  SAL       CLT       2013-04-12\n",
       "2  CLT       SAL       2013-07-15\n",
       "3  AKL       SVO       2013-04-24\n",
       "4  SVO       AKL       2013-05-14"
      ]
     },
     "execution_count": 44,
     "metadata": {},
     "output_type": "execute_result"
    }
   ],
   "source": [
    "b.head()"
   ]
  },
  {
   "cell_type": "code",
   "execution_count": 47,
   "metadata": {
    "collapsed": false,
    "scrolled": false
   },
   "outputs": [],
   "source": [
    "# creamos la misma columna en las dos tablas para poderlas unir\n",
    "\n",
    "b['dateNoTime'] = b['date']\n"
   ]
  },
  {
   "cell_type": "code",
   "execution_count": 48,
   "metadata": {
    "collapsed": true
   },
   "outputs": [],
   "source": [
    "s['dateNoTime'] = s.Seg1Date.apply(lambda d: d.date())"
   ]
  },
  {
   "cell_type": "code",
   "execution_count": 55,
   "metadata": {
    "collapsed": false
   },
   "outputs": [],
   "source": [
    "# unimos las dos tablas por la columna que tienen igual (dateNoTime)\n",
    "# para eliminar valores nulos (campos vacíos), utilizamos dropna\n",
    "\n",
    "m = pd.merge(s.dropna(),\n",
    "            b.dropna(),\n",
    "            how='left',\n",
    "            left_on=['Origin','Destination','dateNoTime'],\n",
    "            right_on=['brd_port','off_port','dateNoTime']\n",
    "            )"
   ]
  },
  {
   "cell_type": "code",
   "execution_count": 56,
   "metadata": {
    "collapsed": true
   },
   "outputs": [],
   "source": [
    "m['match']=m.brd_port.apply(lambda b: not pd.isnull(b))"
   ]
  },
  {
   "cell_type": "code",
   "execution_count": 57,
   "metadata": {
    "collapsed": false
   },
   "outputs": [
    {
     "data": {
      "text/html": [
       "<div>\n",
       "<table border=\"1\" class=\"dataframe\">\n",
       "  <thead>\n",
       "    <tr style=\"text-align: right;\">\n",
       "      <th></th>\n",
       "      <th>Origin</th>\n",
       "      <th>Destination</th>\n",
       "      <th>Seg1Date</th>\n",
       "      <th>dateNoTime</th>\n",
       "      <th>brd_port</th>\n",
       "      <th>off_port</th>\n",
       "      <th>date</th>\n",
       "      <th>match</th>\n",
       "    </tr>\n",
       "  </thead>\n",
       "  <tbody>\n",
       "    <tr>\n",
       "      <th>0</th>\n",
       "      <td>TXL</td>\n",
       "      <td>AUH</td>\n",
       "      <td>2013-01-26</td>\n",
       "      <td>2013-01-26</td>\n",
       "      <td>NaN</td>\n",
       "      <td>NaN</td>\n",
       "      <td>NaN</td>\n",
       "      <td>False</td>\n",
       "    </tr>\n",
       "    <tr>\n",
       "      <th>1</th>\n",
       "      <td>ATH</td>\n",
       "      <td>MIL</td>\n",
       "      <td>2013-01-04</td>\n",
       "      <td>2013-01-04</td>\n",
       "      <td>NaN</td>\n",
       "      <td>NaN</td>\n",
       "      <td>NaN</td>\n",
       "      <td>False</td>\n",
       "    </tr>\n",
       "    <tr>\n",
       "      <th>2</th>\n",
       "      <td>ICT</td>\n",
       "      <td>SFO</td>\n",
       "      <td>2013-08-02</td>\n",
       "      <td>2013-08-02</td>\n",
       "      <td>NaN</td>\n",
       "      <td>NaN</td>\n",
       "      <td>NaN</td>\n",
       "      <td>False</td>\n",
       "    </tr>\n",
       "    <tr>\n",
       "      <th>3</th>\n",
       "      <td>RNB</td>\n",
       "      <td>ARN</td>\n",
       "      <td>2013-01-02</td>\n",
       "      <td>2013-01-02</td>\n",
       "      <td>NaN</td>\n",
       "      <td>NaN</td>\n",
       "      <td>NaN</td>\n",
       "      <td>False</td>\n",
       "    </tr>\n",
       "    <tr>\n",
       "      <th>4</th>\n",
       "      <td>OSL</td>\n",
       "      <td>MAD</td>\n",
       "      <td>2013-03-22</td>\n",
       "      <td>2013-03-22</td>\n",
       "      <td>NaN</td>\n",
       "      <td>NaN</td>\n",
       "      <td>NaN</td>\n",
       "      <td>False</td>\n",
       "    </tr>\n",
       "  </tbody>\n",
       "</table>\n",
       "</div>"
      ],
      "text/plain": [
       "  Origin Destination   Seg1Date  dateNoTime brd_port off_port date  match\n",
       "0    TXL         AUH 2013-01-26  2013-01-26      NaN      NaN  NaN  False\n",
       "1    ATH         MIL 2013-01-04  2013-01-04      NaN      NaN  NaN  False\n",
       "2    ICT         SFO 2013-08-02  2013-08-02      NaN      NaN  NaN  False\n",
       "3    RNB         ARN 2013-01-02  2013-01-02      NaN      NaN  NaN  False\n",
       "4    OSL         MAD 2013-03-22  2013-03-22      NaN      NaN  NaN  False"
      ]
     },
     "execution_count": 57,
     "metadata": {},
     "output_type": "execute_result"
    }
   ],
   "source": [
    "m.head()"
   ]
  },
  {
   "cell_type": "code",
   "execution_count": 58,
   "metadata": {
    "collapsed": false
   },
   "outputs": [
    {
     "data": {
      "text/html": [
       "<div>\n",
       "<table border=\"1\" class=\"dataframe\">\n",
       "  <thead>\n",
       "    <tr style=\"text-align: right;\">\n",
       "      <th></th>\n",
       "      <th>Origin</th>\n",
       "      <th>Destination</th>\n",
       "      <th>Seg1Date</th>\n",
       "      <th>dateNoTime</th>\n",
       "      <th>brd_port</th>\n",
       "      <th>off_port</th>\n",
       "      <th>date</th>\n",
       "    </tr>\n",
       "    <tr>\n",
       "      <th>match</th>\n",
       "      <th></th>\n",
       "      <th></th>\n",
       "      <th></th>\n",
       "      <th></th>\n",
       "      <th></th>\n",
       "      <th></th>\n",
       "      <th></th>\n",
       "    </tr>\n",
       "  </thead>\n",
       "  <tbody>\n",
       "    <tr>\n",
       "      <th>False</th>\n",
       "      <td>99605</td>\n",
       "      <td>99605</td>\n",
       "      <td>99605</td>\n",
       "      <td>99605</td>\n",
       "      <td>0</td>\n",
       "      <td>0</td>\n",
       "      <td>0</td>\n",
       "    </tr>\n",
       "  </tbody>\n",
       "</table>\n",
       "</div>"
      ],
      "text/plain": [
       "       Origin  Destination  Seg1Date  dateNoTime  brd_port  off_port  date\n",
       "match                                                                     \n",
       "False   99605        99605     99605       99605         0         0     0"
      ]
     },
     "execution_count": 58,
     "metadata": {},
     "output_type": "execute_result"
    }
   ],
   "source": [
    "m.groupby('match').count()"
   ]
  },
  {
   "cell_type": "code",
   "execution_count": 59,
   "metadata": {
    "collapsed": true
   },
   "outputs": [],
   "source": [
    "# salen todos False porque no ha encontrado ninguna búsqueda que haya acabado en reserva\n"
   ]
  },
  {
   "cell_type": "code",
   "execution_count": null,
   "metadata": {
    "collapsed": true
   },
   "outputs": [],
   "source": []
  }
 ],
 "metadata": {
  "kernelspec": {
   "display_name": "Python 2",
   "language": "python",
   "name": "python2"
  },
  "language_info": {
   "codemirror_mode": {
    "name": "ipython",
    "version": 2
   },
   "file_extension": ".py",
   "mimetype": "text/x-python",
   "name": "python",
   "nbconvert_exporter": "python",
   "pygments_lexer": "ipython2",
   "version": "2.7.10"
  }
 },
 "nbformat": 4,
 "nbformat_minor": 0
}
